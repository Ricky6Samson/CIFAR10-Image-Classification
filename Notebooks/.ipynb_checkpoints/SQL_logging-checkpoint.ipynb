{
 "cells": [
  {
   "cell_type": "markdown",
   "id": "8635d94e-9201-46e8-873f-08f4b49120e4",
   "metadata": {
    "jp-MarkdownHeadingCollapsed": true
   },
   "source": [
    "# Initial setup"
   ]
  },
  {
   "cell_type": "code",
   "execution_count": 1,
   "id": "2224cfe8-90cf-44e1-9592-d6aee3e3a8f4",
   "metadata": {},
   "outputs": [],
   "source": [
    "import pyodbc\n",
    "import tensorflow as tf\n",
    "import joblib\n",
    "from datetime import datetime"
   ]
  },
  {
   "cell_type": "code",
   "execution_count": 2,
   "id": "94848130-7231-4fcf-8c3c-c10277aaaae5",
   "metadata": {},
   "outputs": [],
   "source": [
    "def establish_db_connection():\n",
    "    DB_CONNECTION_STRING = (\n",
    "    \"Driver=SQL Server;\"\n",
    "    \"Server=CSC-Kyalasanahalli;\"\n",
    "    \"Database=CIFAR10\"\n",
    "    )\n",
    "\n",
    "    try:\n",
    "        conn = pyodbc.connect(DB_CONNECTION_STRING)\n",
    "        print(\" SQL Connection established successfully.\")\n",
    "        return conn\n",
    "    except pyodbc.Error as ex:\n",
    "        print(\"Connection failed. Check the Driver, Server and Database params thoroughly\")\n",
    "        exit()"
   ]
  },
  {
   "cell_type": "code",
   "execution_count": 25,
   "id": "a5358f94-e48f-4595-a2e3-a6b8c3187c79",
   "metadata": {},
   "outputs": [],
   "source": [
    "data=tf.keras.datasets.cifar10\n",
    "(_,_),(x_test,y_test)=data.load_data()\n",
    "x_test=tf.keras.applications.mobilenet_v2.preprocess_input(x_test)"
   ]
  },
  {
   "cell_type": "markdown",
   "id": "9e71d2e1-ae64-45dd-9614-9baaf08c25b3",
   "metadata": {
    "jp-MarkdownHeadingCollapsed": true
   },
   "source": [
    "# Logging the Model_Info table"
   ]
  },
  {
   "cell_type": "code",
   "execution_count": 4,
   "id": "b30ca14e-7fa6-4348-956e-701f5ca8bd19",
   "metadata": {},
   "outputs": [],
   "source": [
    "def log_model_info():\n",
    "\n",
    "  conn=establish_db_connection()\n",
    "  cursor=conn.cursor()\n",
    "\n",
    "  insert_query=f\"\"\"\n",
    "  insert into Model_Info(model_id,model_name,val_accuracy,train_accuracy,date_trained,note) values(?,?,?,?,?,?)\n",
    "  \"\"\"\n",
    "\n",
    "  data_to_log=(\n",
    "      model_id,\n",
    "      model_name,\n",
    "      max(h['val_accuracy']),\n",
    "      max(h['accuracy']),\n",
    "      today,\n",
    "      note\n",
    "\n",
    "  )\n",
    "\n",
    "  try:\n",
    "    cursor.execute(insert_query,data_to_log)\n",
    "    conn.commit()\n",
    "    return True\n",
    "  except Exception as e:\n",
    "    print(f'Error : {e}')\n",
    "    return False\n",
    "  finally:\n",
    "    if cursor:\n",
    "      cursor.close"
   ]
  },
  {
   "cell_type": "code",
   "execution_count": 29,
   "id": "db293bfa-41b7-402e-bf08-6210e27bb305",
   "metadata": {},
   "outputs": [
    {
     "name": "stdout",
     "output_type": "stream",
     "text": [
      " SQL Connection established successfully.\n"
     ]
    },
    {
     "data": {
      "text/plain": [
       "True"
      ]
     },
     "execution_count": 29,
     "metadata": {},
     "output_type": "execute_result"
    }
   ],
   "source": [
    "# load the training history .joblib file\n",
    "\n",
    "model_id= #assign a model ID\n",
    "model_name= #assign a model name\n",
    "h=joblib.load() #load the saved training history\n",
    "today=datetime.today().strftime('%Y-%m-%d')\n",
    "\n",
    "log_model_info()"
   ]
  },
  {
   "cell_type": "markdown",
   "id": "afccbdd9-878d-4b28-8401-7fa742aa7f35",
   "metadata": {
    "jp-MarkdownHeadingCollapsed": true
   },
   "source": [
    "# Logging the Epoch_Stats table"
   ]
  },
  {
   "cell_type": "code",
   "execution_count": 45,
   "id": "59cbc16d-6028-4bc1-ab16-f00c160cc4e3",
   "metadata": {},
   "outputs": [],
   "source": [
    "def log_epoch_stats():\n",
    "\n",
    "  conn=establish_db_connection()\n",
    "  cursor=conn.cursor()\n",
    "\n",
    "  insert_query=f\"\"\"\n",
    "  insert into Epoch_Stats(model_id,epoch,train_accuracy,val_accuracy,train_loss,val_loss) values(?,?,?,?,?,?)\n",
    "  \"\"\"\n",
    "\n",
    "  data_to_log=[\n",
    "    (model_id,\n",
    "    epoch[i],\n",
    "    h['accuracy'][i],\n",
    "    h['val_accuracy'][i],\n",
    "    h['loss'][i],\n",
    "    h['val_loss'][i]) for i in range(len(epoch))]\n",
    "  \n",
    "\n",
    "  try:\n",
    "    cursor.executemany(insert_query,data_to_log)\n",
    "    conn.commit()\n",
    "    return True\n",
    "  except Exception as e:\n",
    "    print(f'Error : {e}')\n",
    "    return False\n",
    "  finally:\n",
    "    if cursor:\n",
    "      cursor.close"
   ]
  },
  {
   "cell_type": "code",
   "execution_count": 52,
   "id": "69717369-2071-45dd-8100-547758fc1bb4",
   "metadata": {},
   "outputs": [
    {
     "name": "stdout",
     "output_type": "stream",
     "text": [
      " SQL Connection established successfully.\n"
     ]
    },
    {
     "data": {
      "text/plain": [
       "True"
      ]
     },
     "execution_count": 52,
     "metadata": {},
     "output_type": "execute_result"
    }
   ],
   "source": [
    "# load the training history .joblib file\n",
    "\n",
    "model_id= #assign a model ID\n",
    "epoch= #mention the number of epochs ran\n",
    "h=joblib.load() #load the saved training history\n",
    "\n",
    "log_epoch_stats()"
   ]
  },
  {
   "cell_type": "markdown",
   "id": "7967a7a8-80d7-4ac7-bb5c-08a59ed52933",
   "metadata": {
    "jp-MarkdownHeadingCollapsed": true
   },
   "source": [
    "# Logging the Class_Metrics table"
   ]
  },
  {
   "cell_type": "code",
   "execution_count": 169,
   "id": "2b602419-4b0e-41ad-8c5a-4794c4bf8d3e",
   "metadata": {},
   "outputs": [],
   "source": [
    "def log_class_metrics():\n",
    "\n",
    "  conn=establish_db_connection()\n",
    "  cursor=conn.cursor()\n",
    "\n",
    "  insert_query=f\"\"\"\n",
    "  insert into Class_Metrics(model_id,class_name,precision,recall,f1_score,support) values(?,?,?,?,?,?)\n",
    "  \"\"\"\n",
    "\n",
    "  data_to_log=[(\n",
    "    model_id,\n",
    "    classes[i],\n",
    "    list(list(class_metrics.values())[i].values())[0],\n",
    "    list(list(class_metrics.values())[i].values())[1],\n",
    "    list(list(class_metrics.values())[i].values())[2],\n",
    "    list(list(class_metrics.values())[i].values())[3]\n",
    "  )for i in range(len(classes))]\n",
    "\n",
    "  try:\n",
    "    cursor.executemany(insert_query,data_to_log)\n",
    "    conn.commit()\n",
    "    return True\n",
    "  except Exception as e:\n",
    "    print(f'Error : {e}')\n",
    "    return False\n",
    "  finally:\n",
    "    if cursor:\n",
    "      cursor.close"
   ]
  },
  {
   "cell_type": "code",
   "execution_count": 173,
   "id": "758091be-baba-49fb-ab5e-e4e6b620e4ea",
   "metadata": {},
   "outputs": [
    {
     "name": "stdout",
     "output_type": "stream",
     "text": [
      " SQL Connection established successfully.\n"
     ]
    },
    {
     "data": {
      "text/plain": [
       "True"
      ]
     },
     "execution_count": 173,
     "metadata": {},
     "output_type": "execute_result"
    }
   ],
   "source": [
    "model_id= #assign the model ID of the best model\n",
    "report=joblib.load() #load the saved classification report\n",
    "\n",
    "# Removing irrelevant metrics from the classification report\n",
    "class_metrics={}\n",
    "values_to_remove=['accuracy','macro avg','weighted avg']\n",
    "for i in list(report.keys()):\n",
    "    if i not in values_to_remove:\n",
    "        class_metrics[i]=report[i]\n",
    "\n",
    "classes=list(class_metrics.keys())\n",
    "log_class_metrics()"
   ]
  },
  {
   "cell_type": "markdown",
   "id": "6bf2c978-ee76-4fb2-9fde-36203d121ecd",
   "metadata": {
    "jp-MarkdownHeadingCollapsed": true
   },
   "source": [
    "# Logging the Confusion_Matrix table"
   ]
  },
  {
   "cell_type": "code",
   "execution_count": 201,
   "id": "404594e1-0408-4368-bb6a-3ee84fa07ab3",
   "metadata": {},
   "outputs": [],
   "source": [
    "def log_confusion_matrix():\n",
    "\n",
    "  conn=establish_db_connection()\n",
    "  cursor=conn.cursor()\n",
    "\n",
    "  insert_query=f\"\"\"\n",
    "  insert into Confusion_Matrix(model_id,true_class,predicted_class,count) values(?,?,?,?)\n",
    "  \"\"\"\n",
    "\n",
    "  data_to_log=[\n",
    "      (\n",
    "       model_id,\n",
    "       list(record[i].values())[0],\n",
    "       list(record[i].values())[1],\n",
    "       list(record[i].values())[2]\n",
    "      )for i in range(len(record))\n",
    "  ]\n",
    "\n",
    "\n",
    "  try:\n",
    "    cursor.executemany(insert_query,data_to_log)\n",
    "    conn.commit()\n",
    "    return True\n",
    "  except Exception as e:\n",
    "    print(f'Error : {e}')\n",
    "    return False\n",
    "  finally:\n",
    "    if cursor:\n",
    "      cursor.close"
   ]
  },
  {
   "cell_type": "code",
   "execution_count": 202,
   "id": "9171608e-19d1-4a92-99a9-a5e99602ed46",
   "metadata": {},
   "outputs": [
    {
     "name": "stdout",
     "output_type": "stream",
     "text": [
      " SQL Connection established successfully.\n"
     ]
    },
    {
     "data": {
      "text/plain": [
       "True"
      ]
     },
     "execution_count": 202,
     "metadata": {},
     "output_type": "execute_result"
    }
   ],
   "source": [
    "# load the confusion matrix .joblib file\n",
    "\n",
    "\n",
    "from sklearn.metrics import confusion_matrix\n",
    "\n",
    "model_id= #assign the model ID of the best model\n",
    "class_names = ['airplane','automobile','bird','cat','deer','dog','frog','horse','ship','truck']\n",
    "matrix=joblib.load() # load the confusion matrix .joblib file\n",
    "\n",
    "record=[]\n",
    "for i, actual in enumerate(class_names):\n",
    "    for j, predicted in enumerate(class_names):\n",
    "        record.append({\n",
    "            'actual_class':actual,\n",
    "            'predicted_class':predicted,\n",
    "            'count':int(matrix[i][j])\n",
    "        })\n",
    "\n",
    "log_confusion_matrix()"
   ]
  },
  {
   "cell_type": "markdown",
   "id": "ef0e6bc1-1e6b-489e-b8b5-a84eefa8a78c",
   "metadata": {
    "jp-MarkdownHeadingCollapsed": true
   },
   "source": [
    "# Logging the predictions_log table"
   ]
  },
  {
   "cell_type": "code",
   "execution_count": 3,
   "id": "4c3e57b7-4261-41d4-b4fe-a8472d407b31",
   "metadata": {},
   "outputs": [],
   "source": [
    "def log_predictions_log():\n",
    "\n",
    "  conn=establish_db_connection()\n",
    "  cursor=conn.cursor()\n",
    "\n",
    "  insert_query=f\"\"\"\n",
    "  insert into Predictions_log(\n",
    "  model_id,\n",
    "  image_id,\n",
    "  true_class,\n",
    "  predicted_class,\n",
    "  true_class_index,\n",
    "  predicted_class_index,\n",
    "  confidence_score,\n",
    "  prediction_latency_ms,\n",
    "  correct) \n",
    "  values(?,?,?,?,?,?,?,?,?)\n",
    "  \"\"\"\n",
    "\n",
    "  data_to_log=[\n",
    "      (\n",
    "          \n",
    "          model_id,\n",
    "          list(records.values())[0][i],\n",
    "          list(records.values())[1][i],\n",
    "          list(records.values())[2][i],\n",
    "          list(records.values())[3][i],\n",
    "          list(records.values())[4][i],\n",
    "          list(records.values())[5][i],\n",
    "          list(records.values())[6][i],\n",
    "          list(records.values())[7][i]\n",
    "      ) for i in range(len(list(records.values())[0]))\n",
    "  ]\n",
    "\n",
    "\n",
    "  try:\n",
    "    cursor.executemany(insert_query,data_to_log)\n",
    "    conn.commit()\n",
    "    return True\n",
    "  except Exception as e:\n",
    "    print(f'Error : {e}')\n",
    "    return False\n",
    "  finally:\n",
    "    if cursor:\n",
    "      cursor.close"
   ]
  },
  {
   "cell_type": "code",
   "execution_count": 5,
   "id": "5eaee817-8ae2-4050-a2fa-c7a630c54113",
   "metadata": {},
   "outputs": [
    {
     "name": "stdout",
     "output_type": "stream",
     "text": [
      " SQL Connection established successfully.\n"
     ]
    },
    {
     "data": {
      "text/plain": [
       "True"
      ]
     },
     "execution_count": 5,
     "metadata": {},
     "output_type": "execute_result"
    }
   ],
   "source": [
    "model_id=\n",
    "records=joblib.load() #load the pred_record .joblib file\n",
    "\n",
    "log_predictions_log()"
   ]
  },
  {
   "cell_type": "code",
   "execution_count": null,
   "id": "fb3abe04-5c13-486d-bfa3-a765f056c06c",
   "metadata": {},
   "outputs": [],
   "source": []
  }
 ],
 "metadata": {
  "kernelspec": {
   "display_name": "Python [conda env:Surprise]",
   "language": "python",
   "name": "conda-env-Surprise-py"
  },
  "language_info": {
   "codemirror_mode": {
    "name": "ipython",
    "version": 3
   },
   "file_extension": ".py",
   "mimetype": "text/x-python",
   "name": "python",
   "nbconvert_exporter": "python",
   "pygments_lexer": "ipython3",
   "version": "3.6.13"
  }
 },
 "nbformat": 4,
 "nbformat_minor": 5
}
