{
 "cells": [
  {
   "cell_type": "markdown",
   "id": "3c1e2ecf-5f16-44a7-bf65-419d99b63528",
   "metadata": {},
   "source": [
    "# Predictions"
   ]
  },
  {
   "cell_type": "code",
   "execution_count": null,
   "id": "58aa33ef-55e8-4612-92c7-e2c8b40c9a0f",
   "metadata": {},
   "outputs": [],
   "source": [
    "import random\n",
    "import time\n",
    "import tensorflow as tf\n",
    "import joblib\n",
    "\n",
    "random.seed(42)\n",
    "image_id=random.sample(range(0,10000),10000)\n",
    "\n",
    "\n",
    "def predict(image_id):\n",
    "\n",
    "  model=tf.keras.models.load_model(#path where the model is saved)\n",
    "\n",
    "  data=tf.keras.datasets.cifar10\n",
    "  (_,_),(x_test,y_test)=data.load_data()\n",
    "  x_test=tf.keras.applications.mobilenet_v2.preprocess_input(x_test)\n",
    "  y_test=y_test.flatten()\n",
    "\n",
    "  true_label=[]\n",
    "  predicted_label=[]\n",
    "  true_label_index=[]\n",
    "  predicted_label_index=[]\n",
    "  confidence=[]\n",
    "  correct=[]\n",
    "  prediction_time=[]\n",
    "\n",
    "  for i in image_id:\n",
    "\n",
    "    image=x_test[i]\n",
    "    img_batch=np.expand_dims(image,axis=0)\n",
    "\n",
    "    start_time=time.time()\n",
    "\n",
    "    raw_pred=model.predict(img_batch,verbose=0)\n",
    "    y_pred=np.argmax(raw_pred,axis=1)[0]\n",
    "\n",
    "    end_time=time.time()\n",
    "\n",
    "    latency=end_time - start_time\n",
    "\n",
    "    true_label.append(CLASS_NAMES[y_test[i]])\n",
    "    predicted_label.append(CLASS_NAMES[y_pred])\n",
    "\n",
    "    true_label_index.append(int(y_test[i]))\n",
    "    predicted_label_index.append(int(y_pred))\n",
    "\n",
    "    confidence.append(round(float(max(raw_pred[0])),4))\n",
    "\n",
    "    prediction_time.append(round(latency,4))\n",
    "\n",
    "    if (y_test[i])==int(y_pred):\n",
    "      correct.append(1)\n",
    "    else:\n",
    "      correct.append(0)\n",
    "\n",
    "  return true_label,predicted_label,true_label_index,predicted_label_index,confidence,prediction_time,correct\n",
    "\n"
   ]
  },
  {
   "cell_type": "code",
   "execution_count": null,
   "id": "2f765e0b-5d39-4d9f-b8b1-7e61809cb872",
   "metadata": {},
   "outputs": [],
   "source": [
    "true_label,predicted_label,true_label_index,predicted_label_index,confidence,prediction_time,correct=predict(image_id)\n",
    "\n",
    "pred_record={\n",
    "    'image_id':image_id,\n",
    "    'true_label':true_label,\n",
    "    'predicted_label':predicted_label,\n",
    "    'true_label_index':true_label_index,\n",
    "    'predicted_label_index':predicted_label_index,\n",
    "    'confidence':confidence,\n",
    "    'prediction_time':prediction_time,\n",
    "    'correct':correct\n",
    "\n",
    "}\n",
    "\n",
    "file_name='pred_record.joblib'\n",
    "abs_path=os.path.abspath(file_name)\n",
    "jb.dump(pred_record,abs_path)"
   ]
  },
  {
   "cell_type": "markdown",
   "id": "be3f597d-1c49-4fc1-9258-fe6037664d65",
   "metadata": {},
   "source": [
    "# Classification Report"
   ]
  },
  {
   "cell_type": "code",
   "execution_count": null,
   "id": "419b4c4b-0fdc-43f3-b04e-4cfc5a5dfe2f",
   "metadata": {},
   "outputs": [],
   "source": [
    "from sklearn import classification_report\n",
    "\n",
    "model=tf.keras.models.load_model(#path where the model is saved)\n",
    "raw_pred=model.predict(x_test)\n",
    "CLASS_NAMES= ['airplane', 'automobile', 'bird', 'cat', 'deer', 'dog', 'frog', 'horse', 'ship', 'truck']\n",
    "y_pred=np.argmax(raw_pred,axis=1)\n",
    "report=classification_report(y_test,y_pred,target_names=CLASS_NAMES,output_dict=True)\n",
    "\n",
    "file_name='classification_report.joblib'\n",
    "abs_path=os.path.abspath(file_name)\n",
    "jb.dump(report,abs_path)"
   ]
  },
  {
   "cell_type": "markdown",
   "id": "3d2462ad-8201-4257-a124-3cfef0203236",
   "metadata": {},
   "source": [
    "# Confusion Matrix"
   ]
  },
  {
   "cell_type": "code",
   "execution_count": null,
   "id": "60806e27-ea3f-42c7-9faa-63549cd1e128",
   "metadata": {},
   "outputs": [],
   "source": [
    "from sklearn import confusion_matrix\n",
    "\n",
    "model=tf.keras.models.load_model(#path where the model is saved)\n",
    "raw_pred=model.predict(x_test)\n",
    "y_pred=np.argmax(raw_pred,axis=1)\n",
    "con_matrix=confusion_matrix(y_test,y_pred,labels=range(len(class_names)))\n",
    "\n",
    "file_name='confusion_matrix.joblib'\n",
    "abs_path=os.path.abspath(file_name)\n",
    "jb.dump(con_matrix,abs_path)"
   ]
  }
 ],
 "metadata": {
  "kernelspec": {
   "display_name": "Python [conda env:Surprise]",
   "language": "python",
   "name": "conda-env-Surprise-py"
  },
  "language_info": {
   "codemirror_mode": {
    "name": "ipython",
    "version": 3
   },
   "file_extension": ".py",
   "mimetype": "text/x-python",
   "name": "python",
   "nbconvert_exporter": "python",
   "pygments_lexer": "ipython3",
   "version": "3.6.13"
  }
 },
 "nbformat": 4,
 "nbformat_minor": 5
}
