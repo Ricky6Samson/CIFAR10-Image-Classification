{
 "cells": [
  {
   "cell_type": "markdown",
   "id": "456642fa-548b-4f27-83ac-abe12846395b",
   "metadata": {},
   "source": [
    "# Data prep for custom CNN model"
   ]
  },
  {
   "cell_type": "code",
   "execution_count": null,
   "id": "b0d265e9-8440-4590-b3ce-5b9a9c386a35",
   "metadata": {},
   "outputs": [],
   "source": [
    "def prepare_cifar10_data():\n",
    "    dataset=tf.keras.datasets.cifar10\n",
    "    (x_train,y_train),(x_test,y_test)=dataset.load_data()\n",
    "\n",
    "    x_train=x_train/255\n",
    "    x_test=x_test/255\n",
    "\n",
    "    return (x_train,y_train),(x_test,y_test)\n",
    "    print(f'Data is prepared.\\n Training samples:{len(x_train)}\\n Testing samples:{len(x_test)}')"
   ]
  },
  {
   "cell_type": "markdown",
   "id": "bf22546e-47d8-4e03-b2c1-7ee8a94e2010",
   "metadata": {},
   "source": [
    "# Data prep for transfer learning model"
   ]
  },
  {
   "cell_type": "code",
   "execution_count": null,
   "id": "0718f470-ea89-4a63-912f-547e5aece67a",
   "metadata": {},
   "outputs": [],
   "source": [
    "def prepare_transferlearning_data():\n",
    "    data=tf.keras.datasets.cifar10\n",
    "    (x_train,y_train),(x_test,y_test)=data.load_data()\n",
    "\n",
    "    x_train=tf.keras.applications.mobilenet_v2.preprocess_input(x_train)\n",
    "    x_test=tf.keras.applications.mobilenet_v2.preprocess_input(x_test)\n",
    "\n",
    "    return (x_train,y_train),(x_test,y_test)\n",
    "    print(f'Data is prepared.\\n Training samples:{len(x_train)}\\n Testing samples:{len(x_test)}')"
   ]
  }
 ],
 "metadata": {
  "kernelspec": {
   "display_name": "Python [conda env:base] *",
   "language": "python",
   "name": "conda-base-py"
  },
  "language_info": {
   "codemirror_mode": {
    "name": "ipython",
    "version": 3
   },
   "file_extension": ".py",
   "mimetype": "text/x-python",
   "name": "python",
   "nbconvert_exporter": "python",
   "pygments_lexer": "ipython3",
   "version": "3.12.7"
  }
 },
 "nbformat": 4,
 "nbformat_minor": 5
}
