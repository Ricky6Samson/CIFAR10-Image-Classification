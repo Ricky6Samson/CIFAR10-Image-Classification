{
 "cells": [
  {
   "cell_type": "markdown",
   "id": "afdbcf13-1975-4860-ad57-a4dab312c92c",
   "metadata": {},
   "source": [
    "# Libraries"
   ]
  },
  {
   "cell_type": "code",
   "execution_count": null,
   "id": "19d127a7-be82-4209-9347-d2258ecd5381",
   "metadata": {},
   "outputs": [],
   "source": [
    "import numpy as np\n",
    "import pandas as pd\n",
    "import tensorflow as tf\n",
    "import pyodbc\n",
    "import random\n",
    "from datetime import datetime\n",
    "import os\n",
    "import joblib"
   ]
  }
 ],
 "metadata": {
  "kernelspec": {
   "display_name": "Python [conda env:Surprise]",
   "language": "python",
   "name": "conda-env-Surprise-py"
  },
  "language_info": {
   "codemirror_mode": {
    "name": "ipython",
    "version": 3
   },
   "file_extension": ".py",
   "mimetype": "text/x-python",
   "name": "python",
   "nbconvert_exporter": "python",
   "pygments_lexer": "ipython3",
   "version": "3.6.13"
  }
 },
 "nbformat": 4,
 "nbformat_minor": 5
}
